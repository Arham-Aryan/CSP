{
  "nbformat": 4,
  "nbformat_minor": 0,
  "metadata": {
    "colab": {
      "provenance": []
    },
    "kernelspec": {
      "name": "python3",
      "display_name": "Python 3"
    },
    "language_info": {
      "name": "python"
    }
  },
  "cells": [
    {
      "cell_type": "markdown",
      "source": [
        "### Graph Coloring"
      ],
      "metadata": {
        "id": "YvZ7qeIuW9SK"
      }
    },
    {
      "cell_type": "code",
      "execution_count": null,
      "metadata": {
        "id": "XTrcFaNoUHOR"
      },
      "outputs": [],
      "source": [
        "def isSafe(graph, color):\n",
        "  \"\"\"\n",
        "  Check if the colored graph is safe or not\n",
        "  \"\"\"\n",
        "  for i in range(8):\n",
        "    for j in range(i+1,8):\n",
        "      if(graph[i][j] and color[j]==color[i]):\n",
        "        return False\n",
        "  return True"
      ]
    },
    {
      "cell_type": "code",
      "source": [
        "def printSolution(color):\n",
        "  print(\"Solution Exists: [Following are the assigned colors]\")\n",
        "  for i in range(8):\n",
        "    print(color[i],end=\" \")"
      ],
      "metadata": {
        "id": "Vb298MsBXaMh"
      },
      "execution_count": null,
      "outputs": []
    },
    {
      "cell_type": "code",
      "source": [
        "def graphColoring(graph, m, i, color):\n",
        "  # if current index reached end\n",
        "  if(i==8):\n",
        "    if(isSafe(graph,color)):\n",
        "      printSolution(color)\n",
        "      return True\n",
        "    return False\n",
        "\n",
        "  # Assign each color from 1 to m\n",
        "  for j in range(1, m+1):\n",
        "    color[i] = j\n",
        "    # Recursive call of the vertices\n",
        "    if(graphColoring(graph,m,i+1,color)):\n",
        "      return True\n",
        "    color[i]=0\n",
        "  return False\n"
      ],
      "metadata": {
        "id": "YdR-EVAJW786"
      },
      "execution_count": null,
      "outputs": []
    },
    {
      "cell_type": "code",
      "source": [
        "graph=[\n",
        "    [0,1,0,0,1,0,0,0],\n",
        "    [1,0,1,0,1,0,0,0],\n",
        "    [0,1,0,1,1,0,0,0],\n",
        "    [0,0,1,0,1,0,0,0],\n",
        "    [1,1,1,1,0,1,0,0],\n",
        "    [0,0,0,0,1,0,1,1],\n",
        "    [0,0,0,0,0,1,0,0],\n",
        "    [0,0,0,0,0,1,0,0]\n",
        "\n",
        "]\n",
        "m = 3 # number of colors\n",
        "\n",
        "color = [0 for i in range(8)]\n",
        "\n",
        "if (not graphColoring(graph,m,0,color)):\n",
        "  print(\"Solution does not exist\")"
      ],
      "metadata": {
        "colab": {
          "base_uri": "https://localhost:8080/"
        },
        "id": "JRC3pBYlY4XI",
        "outputId": "f4bd9a0c-ffa7-4072-dc15-d5def1a8e60e"
      },
      "execution_count": null,
      "outputs": [
        {
          "output_type": "stream",
          "name": "stdout",
          "text": [
            "Solution Exists: [Following are the assigned colors]\n",
            "1 2 1 2 3 1 2 2 "
          ]
        }
      ]
    },
    {
      "cell_type": "markdown",
      "source": [
        "## Crypto arithmatic"
      ],
      "metadata": {
        "id": "OIxB6nK6aHuX"
      }
    },
    {
      "cell_type": "code",
      "source": [
        "# Example:\n",
        "# Equation = 'SEND + MORE = MONEY'\n",
        "# 1. substitute M = 2\n",
        "# 2. check:\n",
        "#     max = 9, min = 0\n",
        "#     compare max on left side with min on right side; 9999 + 2999 = 20000\n",
        "#     compare min on left side with max on right side; 0000 + 2000 = 29999\n",
        "#     if max_left < min_right or min_left > max_right:\n",
        "#        the current chosen substituations (M=2 in this example) can not\n",
        "#        lead to a valid solution"
      ],
      "metadata": {
        "id": "cX0vLeTsaHSw"
      },
      "execution_count": null,
      "outputs": []
    },
    {
      "cell_type": "code",
      "source": [
        "import itertools\n",
        "\n",
        "def get_value(word, substitution):\n",
        "  s = 0\n",
        "  factor = 1\n",
        "  for letter in reversed(word):\n",
        "    s+=factor * substitution[letter]\n",
        "    factor *=10\n",
        "  return s\n",
        "\n",
        "def cypto_solver(equation):\n",
        "  # split equation in left and right\n",
        "  left, right = equation.lower().replace(' ','').split('=')\n",
        "  # split words in left part\n",
        "  left = left.split('+')\n",
        "  # create list of used letters\n",
        "  letters  = set(right)\n",
        "\n",
        "  for word in left:\n",
        "    for letter in word:\n",
        "      letters.add(letter)\n",
        "\n",
        "  letters = list(letters)\n",
        "\n",
        "  digits = range(10)\n",
        "\n",
        "  for perm in itertools.permutations(digits, len(letters)):\n",
        "    sol = dict(zip(letters,perm))\n",
        "\n",
        "    if sum(get_value(word,sol) for word in left) == get_value(right,sol):\n",
        "      print(' + '.join(str(get_value(word, sol)) for word in left) + \" = {}\\\n",
        "       (mapping: {})\".format(get_value(right,sol),sol))\n",
        "\n"
      ],
      "metadata": {
        "id": "lLDFW5wJZZnH"
      },
      "execution_count": null,
      "outputs": []
    },
    {
      "cell_type": "code",
      "source": [
        "cypto_solver('TWO+APPLE=FOUR')"
      ],
      "metadata": {
        "colab": {
          "base_uri": "https://localhost:8080/"
        },
        "id": "h-_Fq6jsfUm3",
        "outputId": "55755b74-276a-4fd0-dba8-16e6547486b3"
      },
      "execution_count": null,
      "outputs": [
        {
          "output_type": "stream",
          "name": "stdout",
          "text": [
            "824 + 6615 = 7439       (mapping: {'l': 1, 'f': 7, 'p': 6, 't': 8, 'o': 4, 'u': 3, 'e': 5, 'r': 9, 'w': 2, 'a': 0})\n",
            "925 + 6618 = 7543       (mapping: {'l': 1, 'f': 7, 'p': 6, 't': 9, 'o': 5, 'u': 4, 'e': 8, 'r': 3, 'w': 2, 'a': 0})\n",
            "462 + 8813 = 9275       (mapping: {'l': 1, 'f': 9, 'p': 8, 't': 4, 'o': 2, 'u': 7, 'e': 3, 'r': 5, 'w': 6, 'a': 0})\n",
            "871 + 3325 = 4196       (mapping: {'l': 2, 'f': 4, 'p': 3, 't': 8, 'o': 1, 'u': 9, 'e': 5, 'r': 6, 'w': 7, 'a': 0})\n",
            "873 + 5521 = 6394       (mapping: {'l': 2, 'f': 6, 'p': 5, 't': 8, 'o': 3, 'u': 9, 'e': 1, 'r': 4, 'w': 7, 'a': 0})\n",
            "894 + 5523 = 6417       (mapping: {'l': 2, 'f': 6, 'p': 5, 't': 8, 'o': 4, 'u': 1, 'e': 3, 'r': 7, 'w': 9, 'a': 0})\n",
            "814 + 6625 = 7439       (mapping: {'l': 2, 'f': 7, 'p': 6, 't': 8, 'o': 4, 'u': 3, 'e': 5, 'r': 9, 'w': 1, 'a': 0})\n",
            "915 + 6628 = 7543       (mapping: {'l': 2, 'f': 7, 'p': 6, 't': 9, 'o': 5, 'u': 4, 'e': 8, 'r': 3, 'w': 1, 'a': 0})\n",
            "691 + 4437 = 5128       (mapping: {'l': 3, 'f': 5, 'p': 4, 't': 6, 'o': 1, 'u': 2, 'e': 7, 'r': 8, 'w': 9, 'a': 0})\n",
            "742 + 5539 = 6281       (mapping: {'l': 3, 'f': 6, 'p': 5, 't': 7, 'o': 2, 'u': 8, 'e': 9, 'r': 1, 'w': 4, 'a': 0})\n",
            "694 + 7731 = 8425       (mapping: {'l': 3, 'f': 8, 'p': 7, 't': 6, 'o': 4, 'u': 2, 'e': 1, 'r': 5, 'w': 9, 'a': 0})\n",
            "732 + 5549 = 6281       (mapping: {'l': 4, 'f': 6, 'p': 5, 't': 7, 'o': 2, 'u': 8, 'e': 9, 'r': 1, 'w': 3, 'a': 0})\n",
            "582 + 6649 = 7231       (mapping: {'l': 4, 'f': 7, 'p': 6, 't': 5, 'o': 2, 'u': 3, 'e': 9, 'r': 1, 'w': 8, 'a': 0})\n",
            "563 + 7749 = 8312       (mapping: {'l': 4, 'f': 8, 'p': 7, 't': 5, 'o': 3, 'u': 1, 'e': 9, 'r': 2, 'w': 6, 'a': 0})\n",
            "891 + 2256 = 3147       (mapping: {'l': 5, 'f': 3, 'p': 2, 't': 8, 'o': 1, 'u': 4, 'e': 6, 'r': 7, 'w': 9, 'a': 0})\n",
            "862 + 3357 = 4219       (mapping: {'l': 5, 'f': 4, 'p': 3, 't': 8, 'o': 2, 'u': 1, 'e': 7, 'r': 9, 'w': 6, 'a': 0})\n",
            "852 + 3367 = 4219       (mapping: {'l': 6, 'f': 4, 'p': 3, 't': 8, 'o': 2, 'u': 1, 'e': 7, 'r': 9, 'w': 5, 'a': 0})\n",
            "492 + 7761 = 8253       (mapping: {'l': 6, 'f': 8, 'p': 7, 't': 4, 'o': 2, 'u': 5, 'e': 1, 'r': 3, 'w': 9, 'a': 0})\n",
            "543 + 7769 = 8312       (mapping: {'l': 6, 'f': 8, 'p': 7, 't': 5, 'o': 3, 'u': 1, 'e': 9, 'r': 2, 'w': 4, 'a': 0})\n",
            "271 + 8864 = 9135       (mapping: {'l': 6, 'f': 9, 'p': 8, 't': 2, 'o': 1, 'u': 3, 'e': 4, 'r': 5, 'w': 7, 'a': 0})\n",
            "412 + 8863 = 9275       (mapping: {'l': 6, 'f': 9, 'p': 8, 't': 4, 'o': 2, 'u': 7, 'e': 3, 'r': 5, 'w': 1, 'a': 0})\n",
            "891 + 2274 = 3165       (mapping: {'l': 7, 'f': 3, 'p': 2, 't': 8, 'o': 1, 'u': 6, 'e': 4, 'r': 5, 'w': 9, 'a': 0})\n",
            "821 + 3375 = 4196       (mapping: {'l': 7, 'f': 4, 'p': 3, 't': 8, 'o': 1, 'u': 9, 'e': 5, 'r': 6, 'w': 2, 'a': 0})\n",
            "823 + 5571 = 6394       (mapping: {'l': 7, 'f': 6, 'p': 5, 't': 8, 'o': 3, 'u': 9, 'e': 1, 'r': 4, 'w': 2, 'a': 0})\n",
            "261 + 8874 = 9135       (mapping: {'l': 7, 'f': 9, 'p': 8, 't': 2, 'o': 1, 'u': 3, 'e': 4, 'r': 5, 'w': 6, 'a': 0})\n",
            "691 + 4482 = 5173       (mapping: {'l': 8, 'f': 5, 'p': 4, 't': 6, 'o': 1, 'u': 7, 'e': 2, 'r': 3, 'w': 9, 'a': 0})\n",
            "542 + 6689 = 7231       (mapping: {'l': 8, 'f': 7, 'p': 6, 't': 5, 'o': 2, 'u': 3, 'e': 9, 'r': 1, 'w': 4, 'a': 0})\n",
            "851 + 2296 = 3147       (mapping: {'l': 9, 'f': 3, 'p': 2, 't': 8, 'o': 1, 'u': 4, 'e': 6, 'r': 7, 'w': 5, 'a': 0})\n",
            "871 + 2294 = 3165       (mapping: {'l': 9, 'f': 3, 'p': 2, 't': 8, 'o': 1, 'u': 6, 'e': 4, 'r': 5, 'w': 7, 'a': 0})\n",
            "631 + 4497 = 5128       (mapping: {'l': 9, 'f': 5, 'p': 4, 't': 6, 'o': 1, 'u': 2, 'e': 7, 'r': 8, 'w': 3, 'a': 0})\n",
            "681 + 4492 = 5173       (mapping: {'l': 9, 'f': 5, 'p': 4, 't': 6, 'o': 1, 'u': 7, 'e': 2, 'r': 3, 'w': 8, 'a': 0})\n",
            "824 + 5593 = 6417       (mapping: {'l': 9, 'f': 6, 'p': 5, 't': 8, 'o': 4, 'u': 1, 'e': 3, 'r': 7, 'w': 2, 'a': 0})\n",
            "462 + 7791 = 8253       (mapping: {'l': 9, 'f': 8, 'p': 7, 't': 4, 'o': 2, 'u': 5, 'e': 1, 'r': 3, 'w': 6, 'a': 0})\n",
            "634 + 7791 = 8425       (mapping: {'l': 9, 'f': 8, 'p': 7, 't': 6, 'o': 4, 'u': 2, 'e': 1, 'r': 5, 'w': 3, 'a': 0})\n"
          ]
        }
      ]
    },
    {
      "cell_type": "markdown",
      "source": [
        "### N queen"
      ],
      "metadata": {
        "id": "EFbg9Ib-ivyt"
      }
    },
    {
      "cell_type": "code",
      "source": [
        "global N\n",
        "N = 4\n",
        "\n",
        "def printSolution(board):\n",
        "  \"\"\"Print N queen board\n",
        "  \"\"\"\n",
        "  for i in range(N):\n",
        "    for j in range(N):\n",
        "      print(board[i][j], end= ' ')\n",
        "    print()\n",
        "\n",
        "def isSafe(board,row,col):\n",
        "  \"\"\"\n",
        "  A utility function to check if a queen can be placed on\n",
        "  board[row][col]. Note that this function is called\n",
        "  when \"col\" queens are already placed in columns from\n",
        "  0 to col-1. So we need to check only left side for\n",
        "  attacking queens\n",
        "  \"\"\"\n",
        "  # check this row on left side\n",
        "  for i in range(col):\n",
        "    if board[row][i] == 1:\n",
        "      return False\n",
        "\n",
        "  # check upper diagonal on left side\n",
        "  for i, j in zip(range(row,-1,-1), range(col,-1,-1)):\n",
        "    if board[i][j] == 1:\n",
        "      return False\n",
        "\n",
        "  # Check lower diagonal on left side\n",
        "  for i,j in zip(range(row,N,1),range(col,-1,-1)):\n",
        "    if board[i][j] == 1:\n",
        "      return False\n",
        "\n",
        "  return True\n",
        ""
      ],
      "metadata": {
        "id": "S0kwKsr_fnxG"
      },
      "execution_count": null,
      "outputs": []
    },
    {
      "cell_type": "code",
      "source": [
        "def solve_nq_util(board,col):\n",
        "  # base case: If all queens are places\n",
        "  # then return true\n",
        "  if col >= N:\n",
        "    return True\n",
        "\n",
        "  # Consider this column and try placing queens in all rows one by one\n",
        "  for i in range(N):\n",
        "    if isSafe(board, i , col):\n",
        "      # Plase this queen in board[i][col]\n",
        "      board[i][col] = 1\n",
        "\n",
        "      # recursive apporach to place rest of the queens\n",
        "      if solve_nq_util(board, col+1) == True:\n",
        "        return True\n",
        "\n",
        "      # if placing queen in board[i][col]\n",
        "      # doesnt lead to a solution, then\n",
        "      # queen from board [i][col]\n",
        "      board[i][col] = 0\n",
        "\n",
        "  # if this queen can not be placed in any row in\n",
        "  # this column col then return false\n",
        "  return False"
      ],
      "metadata": {
        "id": "4lm_CiUomARU"
      },
      "execution_count": null,
      "outputs": []
    },
    {
      "cell_type": "code",
      "source": [
        "def solve_nq():\n",
        "  \"\"\"\n",
        "  This function solves the N queen problem using\n",
        "  backtracking. It manily uses solve_nq_util() to\n",
        "  solve the problem.\n",
        "  It returns false if queens cannont be placed, otherwise\n",
        "  return true and placement of queens in the form of 1s.\n",
        "  not that there may be more than one solutions, this function prints\n",
        "  one of the feasible solutions\n",
        "  \"\"\"\n",
        "  board = [[0,0,0,0],\n",
        "           [0,0,0,0],\n",
        "           [0,0,0,0],\n",
        "           [0,0,0,0]\n",
        "           ]\n",
        "  if solve_nq_util(board,0)==False:\n",
        "    print(\"Solution does not exist\")\n",
        "    return False\n",
        "\n",
        "  printSolution(board)\n",
        "  return True\n"
      ],
      "metadata": {
        "id": "Ws_XVF1nnS0U"
      },
      "execution_count": null,
      "outputs": []
    },
    {
      "cell_type": "code",
      "source": [
        "solve_nq()"
      ],
      "metadata": {
        "id": "eAgOjrfCpHQE",
        "outputId": "1b83775c-e91c-4535-a439-816247310971",
        "colab": {
          "base_uri": "https://localhost:8080/"
        }
      },
      "execution_count": null,
      "outputs": [
        {
          "output_type": "stream",
          "name": "stdout",
          "text": [
            "0 0 1 0 \n",
            "1 0 0 0 \n",
            "0 0 0 1 \n",
            "0 1 0 0 \n"
          ]
        },
        {
          "output_type": "execute_result",
          "data": {
            "text/plain": [
              "True"
            ]
          },
          "metadata": {},
          "execution_count": 25
        }
      ]
    },
    {
      "cell_type": "code",
      "source": [],
      "metadata": {
        "id": "JmabVbYrpJL6"
      },
      "execution_count": null,
      "outputs": []
    }
  ]
}